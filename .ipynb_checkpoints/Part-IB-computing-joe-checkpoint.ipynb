{
 "cells": [
  {
   "cell_type": "markdown",
   "metadata": {},
   "source": [
    "### Part IB Computing Exercise\n",
    "# Modeling a tension experiment in atomistic detail\n",
    "\n",
    "_Michaelmas Term, 2017, Engineering Laboratory, University of Cambridge_\n",
    "\n",
    "In this exercise you will develop a simple, _atomic scale_ model of how metals respond under tensile stress. Simulating the response in such detail will allow you an insight into how dislocations are actually generated and interact to provide the plasticity of the material and relieve the large local stresses. \n",
    "\n",
    "In the course of the exercise, you will:\n",
    "\n",
    "1. Create and manipulate atomic scale structural models of crystalline matter\n",
    "1. Compute simple elastic properties of single crystal copper (Cu)\n",
    "1. Set up and run a strain controlled tensile test simulation of a notched bar\n",
    "1. Examine newly created dislocations on the atomic scale\n",
    "\n",
    "This activity introduces you to _scientific computing_, the use of programming and numerical techniques to model, investigate and learn about a technical subject, in this case materials engineering. \n",
    "\n",
    "\n",
    "## Software Environment\n",
    "\n",
    "You will be using a python package called [Atomic Simulation Environment](https://gitlab.com/ase/ase) (ASE), which you will need to download. It has excellent tutorials at its [documentation page](https://wiki.fysik.dtu.dk/ase/), but the first few exercises below will teach you many of the elements of ASE you will need for this project. (If you are working on the Linux workstations in the Department,  see [this page](http://www-h.eng.cam.ac.uk/help/languages/python/pythonatcued.html) on how to install new Python packages.) Please also try to install the ```matscipy``` package, if that is successful your simulations will be _much_ faster. \n",
    "\n",
    "It is recommended that you obtain a Python environment on your own computer such as [Anaconda](http://anaconda.org). However, much of this exercise can be completed using a cloud-based notebook server, such as Azure, in which case you can try installing the needed packages by using ```!pip install ase```, etc. directly in your notebook. Not all cloud-based servers will let you install packages, and the second part of the exercise is much easier done on your own computer. \n",
    "\n",
    "The ```!pip install ase``` and ```!pip install matscipy``` commands also work in an ```anaconda``` Python console or a Jupyter notebook that is running on your own computer. \n",
    "\n",
    "## Software Engineering\n",
    "\n",
    "You will be working on your own for this lab. Use the skills and techniques that you learned in the [Part IA Lent Computing Exercise](http://cued-partia-flood-warning.readthedocs.io/en/latest/index.html), and review them before you start if necessary. In particular:\n",
    "\n",
    "- The first half of the exercise is to be done in this notebook right here.  \n",
    "- Please use Python 3 rather than earlier versions.\n",
    "- Keep to the good code documentation practices you learned in Part IA.\n",
    "\n",
    "It will be assumed from now on that you know how to use these tools. \n",
    "\n",
    "\n",
    "## Materials and structural engineering\n",
    "\n",
    "Since the topic of this exercise is the response of matter to loading, it will be beneficial if you review the related concepts in the IA Materials and Structures courses, particularly on _stress_, _strain_, _bulk modulus_, _shear modulus_, _Poisson ratio_, and _dislocations_."
   ]
  },
  {
   "cell_type": "markdown",
   "metadata": {},
   "source": [
    "## Learning objectives and assessment\n",
    "\n",
    "### Learning objectives\n",
    "\n",
    "#### Programming skills\n",
    "\n",
    "- Effective use of python programming, as developed in Part IA\n",
    "- Appropriate use of NumPy arrays, functions, Python classes, class members and member functions. \n",
    "- Clear organisation of simulation code, parameter settings and corresponding results. \n",
    "\n",
    "#### Scientific Computing\n",
    "\n",
    "- Making connections between abstract concepts of elastic deformation and numerical representations in a compute model\n",
    "- Ability to calculate elastic properties of materials numerically using an atomistic model\n",
    "- Identifying atomic scale processes underlying plastic deformation via dislocation nucleation and glide \n",
    "\n",
    "\n",
    "### Assessment guidelines\n",
    "\n",
    "The following criteria will be used in assessing your implementation. Markers will want to view your Notebook for the first milestone, and your simulation parameters, results and analysis for the second milestone.\n",
    "\n",
    "Your Notebook should display an understanding of the basic aspects of materials engineering involved. Your results should have the correct units, plots have axes correctly labeled. \n",
    "\n",
    "#### Code\n",
    "\n",
    "- Your notebook and programs should execute without error.\n",
    "- Programs should be correct and achieve the specified deliverables.\n",
    "- Clarity and structure of the implementations.\n",
    "- Appropriate re-use of functions and python objects where appropriate.\n",
    "- Documentation of your functions, and comments in the Notebook and standalong code to enhance readability\n",
    "- Effective use of version control if using Git (commits of small steps with clear messages).\n"
   ]
  },
  {
   "cell_type": "markdown",
   "metadata": {},
   "source": [
    "## Preliminaries, Examples, Milestones and Deliverables\n",
    "\n",
    "The rest of this notebook contains background information that you need to understand the exercise, bits of example code that teaches you how to use the ASE package, milestones that help you track your progress, and __specific deliverables (marked in bold)__ that you need to present to the markers. "
   ]
  },
  {
   "cell_type": "markdown",
   "metadata": {},
   "source": [
    "### Milestone 1\n",
    "\n",
    "Basic use of ASE, computation of the elastic properties of a single crystal of copper. Do the tasks right here in this notebook. Bring the completed notebook to the a marking session, at latest by the middle of Term."
   ]
  },
  {
   "cell_type": "markdown",
   "metadata": {},
   "source": [
    "### Task 1.1\n",
    "\n",
    "You are going to use a simple model to describe the interaction of atoms, called the \"Morse potential\", \n",
    "which assumes that atoms interact with each other pairwise, and the total potential energy of a collection of atoms is\n",
    "\n",
    "$$\n",
    "E_{total} = \\sum_{i < j} V_{M}(r_{ij})\n",
    "$$\n",
    "\n",
    "where the double sum runs over the indices of every pair of atoms (counting every pair only once), $r_{ij}$ is the distance between atoms $i$ and $j$, and the _interaction potential_ is given by\n",
    "\n",
    "$$\n",
    "V_{M}(r) = D \\left[e^{-2\\alpha (r-r_0))} - 2e^{-\\alpha (r-r_0))} \\right]\n",
    "$$\n",
    "\n",
    "There are three adjustable parameters in this model. You can think of $D$ as fixing the energy scale of the model, $r_0$ as fixing the distance between neighbouring atoms, and $\\alpha$ as fixing the length scale over which the interaction between atoms decays (in inverse length units). \n",
    "\n",
    "In the small scale world of atoms, it is convenient to measure energies in _electron Volts_ (eV), with 1 eV $\\approx 1.6 \\times 10^{-19}~$J, and distances in _Ångstroms_ (Å), with 1 Å = $10^{-10}~$m, and these are the intrinsic units of ASE. All other derived units follow from this, e.g. forces are in eV/Å, stresses are in eV/Å$^3$. ASE provides the constant ```GPa``` that can be used to convert pressures and stresses from eV/Å$^3$ into GPa units. "
   ]
  },
  {
   "cell_type": "markdown",
   "metadata": {},
   "source": [
    "Here is how to create an object that represents just two copper atoms with a distance 2.5 Å between them:"
   ]
  },
  {
   "cell_type": "code",
   "execution_count": 2,
   "metadata": {
    "collapsed": true
   },
   "outputs": [],
   "source": [
    "from __future__ import print_function\n",
    "from ase import Atoms\n",
    "from ase.units import eV, Ang, GPa\n",
    "d = 2.5*Ang\n",
    "a = Atoms('2Cu', positions=[(0., 0., 0.), (0., 0., d)])"
   ]
  },
  {
   "cell_type": "markdown",
   "metadata": {},
   "source": [
    "The ```positions``` array contains the x, y, z coordinates of each atom, in that order. "
   ]
  },
  {
   "cell_type": "markdown",
   "metadata": {},
   "source": [
    "Now attach a ```calculator``` (ASE-speak for a model that can compute energies, forces and stresses on atoms) to this object, and compute its potential energy. (Any time you create a new atoms object, you need to set its calculator, but you can reuse the same calculator object)"
   ]
  },
  {
   "cell_type": "code",
   "execution_count": 3,
   "metadata": {},
   "outputs": [
    {
     "data": {
      "text/plain": [
       "-0.14929402163819286"
      ]
     },
     "execution_count": 3,
     "metadata": {},
     "output_type": "execute_result"
    }
   ],
   "source": [
    "import Morse\n",
    "calc = Morse.MorsePotential()\n",
    "\n",
    "a.set_calculator(calc) \n",
    "a.get_potential_energy()"
   ]
  },
  {
   "cell_type": "markdown",
   "metadata": {},
   "source": [
    "Changing the position of the second atom allows the evaluation of the potential energy as a function of distance"
   ]
  },
  {
   "cell_type": "code",
   "execution_count": 4,
   "metadata": {},
   "outputs": [
    {
     "data": {
      "text/plain": [
       "array([[ 0. ,  0. ,  0. ],\n",
       "       [ 0. ,  0. ,  2.5]])"
      ]
     },
     "execution_count": 4,
     "metadata": {},
     "output_type": "execute_result"
    }
   ],
   "source": [
    "p = a.get_positions()\n",
    "p"
   ]
  },
  {
   "cell_type": "code",
   "execution_count": 5,
   "metadata": {},
   "outputs": [
    {
     "data": {
      "text/plain": [
       "array([[ 0. ,  0. ,  0. ],\n",
       "       [ 0. ,  0. ,  2.8]])"
      ]
     },
     "execution_count": 5,
     "metadata": {},
     "output_type": "execute_result"
    }
   ],
   "source": [
    "p[1,2] = 2.8\n",
    "p"
   ]
  },
  {
   "cell_type": "code",
   "execution_count": 6,
   "metadata": {},
   "outputs": [
    {
     "data": {
      "text/plain": [
       "-0.14510421337089219"
      ]
     },
     "execution_count": 6,
     "metadata": {},
     "output_type": "execute_result"
    }
   ],
   "source": [
    "a.set_positions(p)\n",
    "a.get_potential_energy()"
   ]
  },
  {
   "cell_type": "markdown",
   "metadata": {},
   "source": [
    "You can also manipulate the positions of the atoms directly by access the array inside the ```Atoms``` object:"
   ]
  },
  {
   "cell_type": "code",
   "execution_count": 7,
   "metadata": {},
   "outputs": [
    {
     "data": {
      "text/plain": [
       "array([[ 0. ,  0. ,  0. ],\n",
       "       [ 0. ,  0. ,  2.9]])"
      ]
     },
     "execution_count": 7,
     "metadata": {},
     "output_type": "execute_result"
    }
   ],
   "source": [
    "a.positions[1,2] = 2.9\n",
    "a.get_positions()"
   ]
  },
  {
   "cell_type": "markdown",
   "metadata": {},
   "source": [
    "The forces exerted by the atoms on one another can be obtained analogously. Remember that the force is the negative of the 3-dimensional gradient vector of the potential energy. (But there is no directly accessible array in the ```Atoms``` object that holds the forces, you have to use the function call)"
   ]
  },
  {
   "cell_type": "code",
   "execution_count": 8,
   "metadata": {},
   "outputs": [
    {
     "data": {
      "text/plain": [
       "array([[ 0.        ,  0.        ,  0.16719099],\n",
       "       [ 0.        ,  0.        , -0.16719099]])"
      ]
     },
     "execution_count": 8,
     "metadata": {},
     "output_type": "execute_result"
    }
   ],
   "source": [
    "f = a.get_forces()\n",
    "f"
   ]
  },
  {
   "cell_type": "markdown",
   "metadata": {},
   "source": [
    "### Deliverable 1.1\n",
    "\n",
    "__Write a function that computes and plots the Morse potential energy for two atoms as a function of the distance between them, as well as the magnitude of the force exerted by one atom on the other, again as a function of distance.__\n",
    "\n",
    "__What is the distance between the two atoms corresponding to the lowest potential energy ? __\n",
    "\n",
    "Hint: You can create an array of distances (think about what is a sensible range!), and for each one compute the potential energy and forces of a pair of Cu atoms. "
   ]
  },
  {
   "cell_type": "code",
   "execution_count": 9,
   "metadata": {},
   "outputs": [
    {
     "data": {
      "image/png": "[encoded data removed]",
      "text/plain": [
       "<matplotlib.figure.Figure at 0x10cb38860>"
      ]
     },
     "metadata": {},
     "output_type": "display_data"
    },
    {
     "data": {
      "image/png": "[encoded data removed]",
      "text/plain": [
       "<matplotlib.figure.Figure at 0x10a73ee48>"
      ]
     },
     "metadata": {},
     "output_type": "display_data"
    }
   ],
   "source": [
    "import numpy as np\n",
    "import matplotlib.pyplot as plt\n",
    "\n",
    "# 1D array of all distances for the atoms to be seperated\n",
    "dist_array = [i*Ang for i in np.arange(2.,5.,0.1)]\n",
    "\n",
    "# array to contain all configuration of atoms\n",
    "atom_array = []\n",
    "\n",
    "# Uses the morse potential method of calculating energy between particles\n",
    "calc = Morse.MorsePotential(D=0.16156*eV, alpha=2.0926/Ang, r0=2.6163*Ang)\n",
    "\n",
    "for dist in dist_array:\n",
    "    # adds all atom configurations with dist values\n",
    "    atom_array.append(Atoms('2Cu', positions = [(0.,0.,0.), (0.,0., dist)]))\n",
    "\n",
    "for atom in atom_array:\n",
    "    # Binds calculator to atoms\n",
    "    atom.set_calculator(calc)\n",
    "\n",
    "# Array of all potential energies\n",
    "potential_energy = [a.get_potential_energy() for a in atom_array]\n",
    "\n",
    "# Array of all forces\n",
    "forces = [a.get_forces()[0,2] for a in atom_array]\n",
    "\n",
    "# plot dist-potential graph\n",
    "plt.plot(dist_array,potential_energy)\n",
    "plt.xlabel('distance')\n",
    "plt.ylabel('potential energy')\n",
    "plt.show()\n",
    "\n",
    "# plot dist-force graph\n",
    "plt.plot(dist_array,forces)\n",
    "plt.xlabel('distance')\n",
    "plt.ylabel('force')\n",
    "plt.show()"
   ]
  },
  {
   "cell_type": "markdown",
   "metadata": {},
   "source": [
    "### Task and Deliverable 1.2 \n",
    "\n",
    "__Write a _unit test_ that verifies that the forces returned by the ```get_forces()``` function is really the negative gradient of the energy (as returned by the ```get_potential_energy()``` function) with respect to the atomic positions. Do this by comparing the returned forces to those obtained by numerical finite differences of energies between two sets of atomic positions, displaced by small amount.__"
   ]
  },
  {
   "cell_type": "markdown",
   "metadata": {},
   "source": [
    "Hint:\n",
    "\n",
    "Use the idea of the definition of the gradient and its relation to the Taylor expansion:\n",
    "\n",
    "$$\n",
    "\\nabla f(x) \\approx \\frac{f(x+\\epsilon)-f(x)}{\\epsilon}\n",
    "$$\n",
    "\n",
    "With just two atoms in the \"system\", you can treat the energy and force as just functions of a scalar variable, the distance between the two atoms. More generally, both the energy and the forces are functions of many atomic coordinates, which we can collect into a vector $\\bf{R}$, so the truncated Taylor expansion takes the form:\n",
    "\n",
    "$$\n",
    "\\nabla f({\\bf R})\\cdot {\\bf d} \\approx \\frac{f ({\\bf R}+\\epsilon {\\bf d} )-f({\\bf R})}{\\epsilon}\n",
    "$$\n",
    "\n",
    "where ${\\bf d}$ is the vector representing a small displacement. \n",
    "\n",
    "__Experiment with different values of $\\epsilon$ and look at how accurate the approximation is as a function of $\\epsilon$. What goes wrong if you make $\\epsilon$ too small?__"
   ]
  },
  {
   "cell_type": "code",
   "execution_count": 10,
   "metadata": {},
   "outputs": [
    {
     "name": "stdout",
     "output_type": "stream",
     "text": [
      "Energy negative gradient: 564.830239909\n",
      "Force: 564.831086135\n",
      "functions provide valid values\n"
     ]
    }
   ],
   "source": [
    "atoms = Atoms('2Cu', positions=[(0., 0., 0.), (0., 0., 5)])\n",
    "calc = Morse.MorsePotential(D=0.16156*eV, alpha=2.0926/Ang, r0=2.6163*Ang)\n",
    "atoms.set_calculator(calc)\n",
    "\n",
    "\n",
    "# stores the current atomic positions to be replaced at the end\n",
    "current_positions = atoms.get_positions()\n",
    "\n",
    "# small displacement that will be applied to the atoms\n",
    "small_disp = 0.001*Ang\n",
    "\n",
    "# Starting seperation\n",
    "new_position = [[0,0,0],[0,0,Ang]]\n",
    "\n",
    "# applies to atoms\n",
    "atoms.set_positions(new_position)\n",
    "\n",
    "# initial energy\n",
    "initial_energy = atoms.get_potential_energy()\n",
    "\n",
    "# initial force\n",
    "initial_force = atoms.get_forces()[1,2]\n",
    "\n",
    "# position with small displacement\n",
    "new_position[1][2] += small_disp\n",
    "\n",
    "# applies to atoms\n",
    "atoms.set_positions(new_position)\n",
    "\n",
    "# final energy\n",
    "final_energy = atoms.get_potential_energy()\n",
    "\n",
    "# final force\n",
    "final_force = atoms.get_forces()[1,2]\n",
    "\n",
    "# due to the simplification, we know that the change in distance between atoms is the same as the\n",
    "# displacement\n",
    "negative_gradient = (initial_energy - final_energy)/small_disp\n",
    "\n",
    "mean_force = (initial_force+final_force)/2\n",
    "\n",
    "print(\"Energy negative gradient:\", negative_gradient)\n",
    "print(\"Force:\",mean_force)\n",
    "\n",
    "if negative_gradient-mean_force<0.01:\n",
    "    print(\"functions provide valid values\")\n"
   ]
  },
  {
   "cell_type": "markdown",
   "metadata": {},
   "source": [
    "### Task 1.3\n",
    "\n",
    "_Create a cubic unit cell of the Cu crystal, and extract some of its properties._\n",
    "\n",
    "In order to investigate the properties of bulk copper, we need to model a large number of atoms. But evaluating the total potential energy of a large number of atoms takes a long time, and so we need a shortcut. In fact many simple properties of a crystalline solid can be evaluated by just considering its _unit cell_, i.e. the smallest repeating unit from which the crystal is made. This is typically true for static properties that do not depend on atoms experiencing a variety of neighbour environments, i.e. in the absence of _defects_. Such properties include the _lattice constant_ (i.e. the density), the _equation of state_, the _elastic constants_ (including the _bulk modulus_), the _Poisson ratio_, etc. \n",
    "\n",
    "The trick is to _assume_ that the atoms are arranged in perfect crystalline order, and only explicitly consider those atoms that are in a single unit cell. In order to correctly evaluate the energy, the _effect_ of atoms in neighbouring unit cells needs to be included, but this can be done by using [_periodic boundary conditions_](https://en.wikipedia.org/wiki/Periodic_boundary_conditions). The page behind the link is rather detailed, but think about the Fourier Series from IA maths, which was applicable to periodic functions, but you only ever had to consider the function values over a single period. This is similar. \n",
    "\n",
    "In the image below, the blue shaded area is the unit cell, its sides are the lattice vectors that generate the periodic images. "
   ]
  },
  {
   "cell_type": "markdown",
   "metadata": {},
   "source": [
    "![Periodic cells](unitcell2.png)"
   ]
  },
  {
   "cell_type": "markdown",
   "metadata": {},
   "source": [
    "More complicated properties, such as the _yield stress_, or those of more complicated materials such as _polycrystalline solids_ cannot be extracted from such small unit cells."
   ]
  },
  {
   "cell_type": "markdown",
   "metadata": {},
   "source": [
    "The crystal structure of Cu is face centered cubic, and ASE provides convenient constructors which assume periodic boundary conditions, unless instructed otherwise:"
   ]
  },
  {
   "cell_type": "code",
   "execution_count": 11,
   "metadata": {
    "collapsed": true
   },
   "outputs": [],
   "source": [
    "from ase.build import bulk\n",
    "cu = bulk(\"Cu\", \"fcc\", a=3.6, cubic=True)"
   ]
  },
  {
   "cell_type": "markdown",
   "metadata": {},
   "source": [
    "![cu](./cu.png)"
   ]
  },
  {
   "cell_type": "markdown",
   "metadata": {},
   "source": [
    "Although the smallest possible unit cell of an fcc crystal contains just one atom, it is often more convenient to work with the \"cubic unit cell\" which contains 4 atoms, but whose lattice vectors (which represent the displacements that correspond to the periodically repeating units) are just the sides of a cube, i.e. orthogonal and correspond to the x, y, and z axes. The size of the lattice vectors determine the volume of the unit cell and the corresponding density of material modelled. \n",
    "\n",
    "In ASE, the lattice vectors are stored, side-by-side, collected together in a 3x3 matrix called _cell_. So, the first column is the first lattice vector ($L_1$), the second column is the second lattice vector($L_2$), and the third column is the third lattice vector ($L_3$).\n",
    "\n",
    "$$\n",
    "\\left[ \\begin{matrix} L_{1x} &L_{2x} &L_{3x}\\\\ L_{1y} &L_{2y}&L_{3y}\\\\ L_{1z} &L_{2z}&L_{3z} \\end{matrix}\\right]\n",
    "$$"
   ]
  },
  {
   "cell_type": "code",
   "execution_count": 12,
   "metadata": {},
   "outputs": [
    {
     "data": {
      "text/plain": [
       "array([[ 3.6,  0. ,  0. ],\n",
       "       [ 0. ,  3.6,  0. ],\n",
       "       [ 0. ,  0. ,  3.6]])"
      ]
     },
     "execution_count": 12,
     "metadata": {},
     "output_type": "execute_result"
    }
   ],
   "source": [
    "cu.get_cell()"
   ]
  },
  {
   "cell_type": "markdown",
   "metadata": {},
   "source": [
    "There are indeed 4 atoms in this unit cell, with positions corresponding to the origin, and the centers of the sides of the unit cube on the YZ, ZX and XY planes:"
   ]
  },
  {
   "cell_type": "code",
   "execution_count": 13,
   "metadata": {},
   "outputs": [
    {
     "data": {
      "text/plain": [
       "array([[ 0. ,  0. ,  0. ],\n",
       "       [ 0. ,  1.8,  1.8],\n",
       "       [ 1.8,  0. ,  1.8],\n",
       "       [ 1.8,  1.8,  0. ]])"
      ]
     },
     "execution_count": 13,
     "metadata": {},
     "output_type": "execute_result"
    }
   ],
   "source": [
    "cu.get_positions()"
   ]
  },
  {
   "cell_type": "markdown",
   "metadata": {},
   "source": [
    "Verify that the periodic boundary conditions are implemented correctly by evaluating the potential energy of the unit cell, and comparing the potential energy per atom to that of a larger cell, which is obtained by replicating the original twice in each of the three directions. Since both smaller and larger cells represent an infinite, periodic array of copper atoms, the potential energy per atom should be the same. "
   ]
  },
  {
   "cell_type": "code",
   "execution_count": 14,
   "metadata": {},
   "outputs": [
    {
     "name": "stdout",
     "output_type": "stream",
     "text": [
      "Number of atoms:  4\n",
      "Potential energy per atom:  -1.16990719273\n"
     ]
    }
   ],
   "source": [
    "cu.set_calculator(calc)\n",
    "print(\"Number of atoms: \", cu.get_number_of_atoms())\n",
    "print(\"Potential energy per atom: \", cu.get_potential_energy()/cu.get_number_of_atoms())"
   ]
  },
  {
   "cell_type": "code",
   "execution_count": 15,
   "metadata": {},
   "outputs": [
    {
     "name": "stdout",
     "output_type": "stream",
     "text": [
      "Number of atoms:  32\n",
      "Potential energy per atom:  -1.16990719273\n"
     ]
    }
   ],
   "source": [
    "cu222 = cu.copy()        # creating a copy of an Atoms object\n",
    "cu222.set_calculator(calc) # copying DOES NOT bring the attached calculator, so we need to set it again\n",
    "cu222 *= (2,2,2)         # replicating the unit cell is accomplished by the multiplying operator\n",
    "print(\"Number of atoms: \", cu222.get_number_of_atoms())\n",
    "print(\"Potential energy per atom: \", cu222.get_potential_energy()/cu222.get_number_of_atoms())"
   ]
  },
  {
   "cell_type": "markdown",
   "metadata": {},
   "source": [
    "![cu222](./cu222.png)"
   ]
  },
  {
   "cell_type": "markdown",
   "metadata": {},
   "source": [
    "Strain can be applied to the system by modifying (distorting) the unit cell appropriately. E.g. to apply 1% hydrostatic compression:"
   ]
  },
  {
   "cell_type": "code",
   "execution_count": 16,
   "metadata": {},
   "outputs": [
    {
     "data": {
      "text/plain": [
       "array([[ 3.564,  0.   ,  0.   ],\n",
       "       [ 0.   ,  3.564,  0.   ],\n",
       "       [ 0.   ,  0.   ,  3.564]])"
      ]
     },
     "execution_count": 16,
     "metadata": {},
     "output_type": "execute_result"
    }
   ],
   "source": [
    "cell = cu.get_cell()\n",
    "cell *= 0.99\n",
    "cu.set_cell(cell, scale_atoms=True) # To apply strain, the atomic positions need to be scaled together with the unit cell \n",
    "cu.get_cell()"
   ]
  },
  {
   "cell_type": "code",
   "execution_count": 17,
   "metadata": {},
   "outputs": [
    {
     "data": {
      "text/plain": [
       "-1.1657718984261178"
      ]
     },
     "execution_count": 17,
     "metadata": {},
     "output_type": "execute_result"
    }
   ],
   "source": [
    "cu.get_potential_energy()/cu.get_number_of_atoms()"
   ]
  },
  {
   "cell_type": "markdown",
   "metadata": {},
   "source": [
    "The stress on the system is given as a matrix, here we get it as a 3x3 matrix (ASE's default is to provide it in [Voigt notation](https://en.wikipedia.org/wiki/Voigt_notation))"
   ]
  },
  {
   "cell_type": "code",
   "execution_count": 18,
   "metadata": {},
   "outputs": [
    {
     "data": {
      "text/plain": [
       "array([[ -2.33782806e-02,   6.13108239e-19,   9.19662359e-19],\n",
       "       [  6.13108239e-19,  -2.33782806e-02,   1.22621648e-18],\n",
       "       [  9.19662359e-19,   1.22621648e-18,  -2.33782806e-02]])"
      ]
     },
     "execution_count": 18,
     "metadata": {},
     "output_type": "execute_result"
    }
   ],
   "source": [
    "cu.get_stress(voigt=False)"
   ]
  },
  {
   "cell_type": "markdown",
   "metadata": {},
   "source": [
    "The stress, analogously to the force, is the derivative of the energy with respect to the unit cell vectors (or more precisely, with respect to the deformation strain applied to the unit cell vectors). Note how the off-diagonal elements of the stress matrix above are essentially zero and the diagonal elements are the same, i.e. the stress is the same in the X, Y, and Z directions, corresponding to the 1% hydrostatic compression that we applied above. "
   ]
  },
  {
   "cell_type": "markdown",
   "metadata": {},
   "source": [
    "### Deliverable 1.3\n",
    "\n",
    "- __Write a function that calculates and plots the potential energy and pressure (P) of the copper crystal as a function of volume by applying varying amounts of hydrostatic strain__\n",
    "- __Calculate the [bulk modulus](https://en.wikipedia.org/wiki/Bulk_modulus) at the equilibrium volume.__\n",
    "\n",
    "Hints:\n",
    "\n",
    "- For the plot, use both compressive and tensile strains. Make sure you plot against the volume, not against the strain itself.\n",
    "- Remember that $K = -V dP/dV$ where $V$ is the volume, and that the pressure is related to the trace of the stress matrix (S), $P = - \\frac{1}{3} \\text{Tr}(S)$.\n",
    "- Do not forget that energy and volume are extensive, so it is best to work with the per-atom quantities."
   ]
  },
  {
   "cell_type": "code",
   "execution_count": 19,
   "metadata": {},
   "outputs": [
    {
     "data": {
      "image/png": "[encoded data removed]",
      "text/plain": [
       "<matplotlib.figure.Figure at 0x10da35f28>"
      ]
     },
     "metadata": {},
     "output_type": "display_data"
    },
    {
     "data": {
      "image/png": "[encoded data removed]",
      "text/plain": [
       "<matplotlib.figure.Figure at 0x10da0c208>"
      ]
     },
     "metadata": {},
     "output_type": "display_data"
    }
   ],
   "source": [
    "# Creates a unit of copper and hydrostatically compresses and expands it from 95% to 105% of equilibrium volume\n",
    "\n",
    "# creates a unit cell of copper\n",
    "cu = bulk(\"Cu\", \"fcc\", a=3.6, cubic=True)\n",
    "\n",
    "calc = Morse.MorsePotential(D=0.16156*eV, alpha=2.0926/Ang, r0=2.6163*Ang)\n",
    "cu.set_calculator(calc)\n",
    "\n",
    "compressions = [i/100 for i in range(95,105)]\n",
    "potential_energy = []\n",
    "pressure = []\n",
    "\n",
    "# divide by four to get per atom volumes\n",
    "volumes = [(i*3.6)**3/4 for i in compressions]\n",
    "\n",
    "\n",
    "for i in compressions:\n",
    "    cell = cu.get_cell()\n",
    "    cell *=i\n",
    "    cu.set_cell(cell, scale_atoms=True)\n",
    "    cell/=i\n",
    "\n",
    "\n",
    "    potential_energy.append(cu.get_potential_energy()/cu.get_number_of_atoms())\n",
    "\n",
    "    # do to uniform strain pressure is the same as negative stress along corresponding axis\n",
    "    pressure.append(-cu.get_stress(voigt=False)[0][0])\n",
    "\n",
    "    cu.set_cell(cell, scale_atoms=True)\n",
    "\n",
    "\n",
    "# plot  graph\n",
    "plt.plot(volumes,potential_energy)\n",
    "plt.xlabel('volume ($Å^3$)')\n",
    "plt.ylabel('potential energy per atom(eV)')\n",
    "plt.show()\n",
    "\n",
    "# plot  graph\n",
    "plt.plot(volumes,pressure)\n",
    "plt.xlabel('volume ($Å^3$)')\n",
    "plt.ylabel('pressure')\n",
    "plt.show()\n"
   ]
  },
  {
   "cell_type": "code",
   "execution_count": 20,
   "metadata": {},
   "outputs": [
    {
     "name": "stdout",
     "output_type": "stream",
     "text": [
      "105.425162117 GPa\n"
     ]
    }
   ],
   "source": [
    "from ase.units import kJ\n",
    "# From the same unit of copper, calculates the bulk modulus at equilibrium volume\n",
    "\n",
    "cell = cu.get_cell()\n",
    "cell *= .9999999\n",
    "\n",
    "cu.set_cell(cell, scale_atoms=True)\n",
    "cell/=.9999999\n",
    "\n",
    "# due to uniform strain pressure is the same as negative stress along corresponding axis\n",
    "lower_pressure = -cu.get_stress(voigt=False)[0][0]\n",
    "\n",
    "cell *= 1.0000001\n",
    "cu.set_cell(cell, scale_atoms=True)\n",
    "cell/=1.0000001\n",
    "\n",
    "upper_pressure = -cu.get_stress(voigt=False)[0][0]\n",
    "\n",
    "cu.set_cell(cell, scale_atoms=True)\n",
    "\n",
    "bulk_mod = -3.6**3*(upper_pressure-lower_pressure)/((3.6*1.0000001)**3-(3.6*0.9999999)**3)\n",
    "# Convert from eV to kJ\n",
    "print(bulk_mod / kJ * 1.0e24, 'GPa')\n"
   ]
  },
  {
   "cell_type": "code",
   "execution_count": 21,
   "metadata": {},
   "outputs": [
    {
     "name": "stdout",
     "output_type": "stream",
     "text": [
      "Bulk modulus:  103.796022813 GPa\n"
     ]
    },
    {
     "data": {
      "image/png": "[encoded data removed]",
      "text/plain": [
       "<matplotlib.figure.Figure at 0x10dd9d278>"
      ]
     },
     "metadata": {},
     "output_type": "display_data"
    },
    {
     "data": {
      "text/plain": [
       "<matplotlib.axes._subplots.AxesSubplot at 0x10f463f28>"
      ]
     },
     "execution_count": 21,
     "metadata": {},
     "output_type": "execute_result"
    }
   ],
   "source": [
    "# Those who browse the documentation of ASE can discover that it has functionality to fit the equation of state\n",
    "# and extract parameters using more accurate methods. Compare your result above to those computed by ASE. \n",
    "\n",
    "# The call below takes two arrays: the variable V is an array of volumes/atom and E\n",
    "# is an array of corresponding potential energy values, again per atom. If you want to rexecute this\n",
    "# notebook cell, you will need to substitute your own arrays for V and E.\n",
    "from ase.eos import EquationOfState\n",
    "eos = EquationOfState(volumes, potential_energy, eos=\"birchmurnaghan\") # Birch-Murnaghan is a particular functional form fitted to the equation of state\n",
    "v0, e0, B = eos.fit()\n",
    "print('Bulk modulus: ', B / kJ * 1.0e24, 'GPa')\n",
    "eos.plot()"
   ]
  },
  {
   "cell_type": "markdown",
   "metadata": {},
   "source": [
    "### Task and Deliverable 1.4 \n",
    "\n",
    "__Write a function to compute the [shear modulus](https://en.wikipedia.org/wiki/Shear_modulus).__\n",
    "\n",
    "Hint: You can apply a shear in the XY plane by modifying the X component of the lattice vector that points originally in the Y direction, i.e. $L_{2x}$. Apply _small_ amounts of shear, i.e. a few percent. Starting with a cubic cell with side lengths L, new cell matrix, after applying 1% shear in the XY plane, would be given by\n",
    "\n",
    "$$\n",
    "\\left[\\begin{matrix}\n",
    "L & 0.01L & 0\\\\0&L&0\\\\ 0&0&L\n",
    "\\end{matrix}\\right]\n",
    "$$\n",
    "\n",
    "Just as before, in the hydrostatic case, after applying the shear strain in this way, you can get the corresponding (shear) stress simply by calling the ```get_stress()``` function. Observe which components of the stress matrix is nonzero, and think about which one you need to work out the shear modulus. \n",
    "\n",
    "__Write a function to determine the [Poisson ratio](https://en.wikipedia.org/wiki/Poisson%27s_ratio)__\n",
    "\n",
    "Recall that if the system is strained in the X direction by a normal strain (not shear), the resulting stress will not be purely in the X direction, but in addition to the stress in X there will be stress in the Y and Z directions also. If you now strain the system in an _equibiaxial_ way, so some amount of strain in X, and equal amounts in Y and Z, that is different from the strain in X, the Poisson ratio is the ratio of X and Y(and Z) strains that lead to no stress in the Y (and Z) directions. \n",
    "\n"
   ]
  },
  {
   "cell_type": "code",
   "execution_count": 22,
   "metadata": {},
   "outputs": [
    {
     "name": "stdout",
     "output_type": "stream",
     "text": [
      "86.3978458513 GPa\n"
     ]
    }
   ],
   "source": [
    "#apply shear strain\n",
    "cell[0,1]=3.6*0.01\n",
    "cu.set_cell(cell, scale_atoms=True)\n",
    "cell[0,1]=0\n",
    "shear_mod = cu.get_stress(voigt=False)[0,1]/0.01\n",
    "\n",
    "# convert to Gpa\n",
    "print(shear_mod/kJ*1e24, 'GPa')"
   ]
  },
  {
   "cell_type": "code",
   "execution_count": 46,
   "metadata": {},
   "outputs": [
    {
     "name": "stdout",
     "output_type": "stream",
     "text": [
      "Poisson's ratio:  0.294\n"
     ]
    }
   ],
   "source": [
    "# apply strain\n",
    "\n",
    "x_strain = 0.05\n",
    "cell[0,0] =3.6*(1+x_strain)\n",
    "\n",
    "\n",
    "strains = [i/10000 for i in range(-800,20)]\n",
    "stresses = []\n",
    "min_stress = 10\n",
    "for i in strains:\n",
    "    cell[1,1]=cell[2,2]=3.6*(1+i)\n",
    "    cu.set_cell(cell, scale_atoms=True)\n",
    "    stresses.append(cu.get_stress(voigt=False)[1,1])\n",
    "    if abs(cu.get_stress(voigt=False)[1,1]) < abs(min_stress):\n",
    "        min_stress = cu.get_stress(voigt=False)[1,1]\n",
    "        min_strain = i\n",
    "        \n",
    "cell[0,0]=cell[1,1]=cell[2,2]=3.6\n",
    "\n",
    "print(\"Poisson's ratio: \", abs(min_strain/x_strain))\n",
    "\n",
    "\n",
    "\n",
    "\n",
    "\n"
   ]
  },
  {
   "cell_type": "markdown",
   "metadata": {},
   "source": [
    "### Milestone 2\n",
    "\n",
    "For this milestone you will run a dynamical simulation that models a strain controlled tension experiment. "
   ]
  },
  {
   "cell_type": "markdown",
   "metadata": {},
   "source": [
    "![bar](./bar_annotated.png)"
   ]
  },
  {
   "cell_type": "markdown",
   "metadata": {},
   "source": [
    "##### Task 2.1\n",
    "\n",
    "You are supplied an [example program](run_cu_bar_2d_qs.py) which creates an atomistic model representing a notched bar. In order to speed up the computation, we employ periodic boundary conditions in one of the directions (Z) that is perpendicular to the direction that you will apply the strain along (X). "
   ]
  },
  {
   "cell_type": "markdown",
   "metadata": {},
   "source": [
    "In order to allow the simulation to run quickly, yet still see some pertinent effects, we focus on the area near the notch, that is where the plastic processes will originate. (In a macroscopic sample, there would be many defects within the material that serve as sources of plastic deformation, but here just the notch will do). In addition, the following approximations will also be made:\n",
    "\n",
    "- Instead of following the evolution of the atomic positions in time, we will optimise the positions to find the lowest energy state corresponding to each particular applied strain. This can be accomplished much more quickly using sophisticated optimisation techniques (which you might learn more about in Part IIA), rather than by integrating forward the equations of motion for the atoms.\n",
    "- You will observe only one kind of process, dislocation nucleation and glide. In a real materials, or a more realistic model, there will be many different kinds of plastic processes. Some take more time than what you are able to simulate, some need preexisting flaws to, some need multiple crystal grains and the grain boundaries between them, some need a more realistic length scale to be modelled. "
   ]
  },
  {
   "cell_type": "markdown",
   "metadata": {},
   "source": [
    "To visualize the trajectory of atoms, download and install [Ovito](https://ovito.org), an atomistic visualisation tool. After you open the trajectory file that is produced (ending with ```.xyz```), you will need to check the \"File contains multiple timesteps\" checkbox on the right under the \"XYZ File\" heading, in order for the animation controls to activate. The best way to see where deformation takes place is to colour the atoms according to their atomic energy, you can accomplish this by clicking on \"Add Modification\" in the top right panel, selecting \"Color coding\", and then selecting the \"Potential energy\" property from the dropdown menu, then click on \"Adjust range\"."
   ]
  },
  {
   "cell_type": "markdown",
   "metadata": {},
   "source": [
    "_Note: the simulation with the default parameters takes many tens of minutes to run, depending on the speed of your computer, but you can visualise the trajectory while it is being generated. Clicking the \"Reload animation frames\" button under the \"External data sources\" tab loads the most recent version of the trajectory file into Ovito._"
   ]
  },
  {
   "cell_type": "markdown",
   "metadata": {},
   "source": [
    "##### Deliverable 2.1\n",
    "\n",
    "__Carry out a tension simulation, and identify the strain at which the first dislocation nucleates.__\n",
    "\n",
    "* __Describe what happens to the dislocation subsequently: How do the dislocations and free surfaces interact? What happens to the dislocations that reach the fixed part of the bar that corresponds to the \"grips\" in your experiment?__ \n",
    "* __What happens to the notch?__\n",
    "* __Use Ovito to produce (\"render\") a movie of the evolution of bar.__\n",
    "\n",
    "__Change the simulation to alter the length of the initial notch, and run the simulation again. How does the critical strain change? __\n",
    "\n",
    "##### Deliverable 2.2\n",
    "\n",
    "__Modify the program to create an empty void in the middle of the bar (which is another typical flaw found in metals), instead of the two notches. Observe the evolution of the void during the tension experiment. What happens to its volume?__"
   ]
  },
  {
   "cell_type": "markdown",
   "metadata": {},
   "source": [
    "### Initial Simulation\n",
    "Initial Dislocation Strain: 0.071105\n",
    "\n",
    "The dislocation travels diagonally along the bar to the centre of the edge.\n",
    "\n",
    "The dislocations and the surface run along eachother with the dislocation travelling along the surface causing the particles to realign to an adjacent atom. The notch widens and deepens into the bar.\n",
    "\n",
    "### Longer Notch Simulation\n",
    "New critical strain: 0.0605\n",
    "\n",
    "The critical strain has decreased due to the minimum width of material in the centre being lower\n"
   ]
  },
  {
   "cell_type": "markdown",
   "metadata": {
    "collapsed": true
   },
   "source": [
    "# Feedback\n",
    "\n",
    "## Introduction -> Task 1.1 ~1hr\n",
    "This task was fairly straightforward with prehaps the need to improve the wording on what graphs are required. Is it a dist-potential and a dist-force or dist-potential and force-potential?\n",
    "\n",
    "## Task 1.2 ~25 minutes\n",
    "This task was fine to complete but the values at the end were not identical so I included a tolerance to allow for the error due to estimation\n",
    "\n",
    "## Task 1.3 ~18 minutes\n",
    "Some elaboration on what the lattice vector was and its function in the program would be helpful as I did not feel that I fully understood the manipulation of the bulk in my code\n",
    "\n",
    "## Deliverable 1.2 ~1hr 45 minutes\n",
    "Getting the pressure was the biggest challenge here as the instructions were not clear as to what pressure was and so I ended up just assuming that the pressure was just the negative of one of the diagonal elements of the stress matrix due to them all being equal in hydrostatic compression/expansion. The equation $P = - \\frac{1}{3} \\text{Tr}~S$ was not very clear either as I assumed that $Tr$ was a variable but it seems as though it is a function of the matrix perhaps $P = - \\frac{1}{3} \\text{Tr}~(S)$ would be an improvement \n",
    "\n",
    "The method for finding both the shear modulus and the poissons ratio were fine but perhaps including the answers we are expecting to get in the notebook would be helpful as I found that my answers were not the same as those provided on wikipedia, for example.\n",
    "\n",
    "## Task and Deliverable 1.3 ~1hr 30 minutes\n",
    "Most of the time for this task is idle while waiting for the simulations to complete.\n",
    "The instructions were fairly vague but I imagine the primary part of this part of the project is the observation of the simulation.\n",
    "\n",
    "Overall, this project was enjoyable while perhaps a little confusing at times. \n",
    "It was a pleasure to gain an understanding of materials simulation and that it is fairly easy to get started on.\n"
   ]
  },
  {
   "cell_type": "code",
   "execution_count": null,
   "metadata": {
    "collapsed": true
   },
   "outputs": [],
   "source": []
  }
 ],
 "metadata": {
  "kernelspec": {
   "display_name": "Python 3",
   "language": "python",
   "name": "python3"
  },
  "language_info": {
   "codemirror_mode": {
    "name": "ipython",
    "version": 3
   },
   "file_extension": ".py",
   "mimetype": "text/x-python",
   "name": "python",
   "nbconvert_exporter": "python",
   "pygments_lexer": "ipython3",
   "version": "3.6.3"
  }
 },
 "nbformat": 4,
 "nbformat_minor": 2
}
